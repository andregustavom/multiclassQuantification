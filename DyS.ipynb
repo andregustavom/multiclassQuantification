{
 "cells": [
  {
   "cell_type": "code",
   "execution_count": 1,
   "id": "b341300b",
   "metadata": {},
   "outputs": [],
   "source": [
    "import numpy as np\n",
    "import pandas as pd\n",
    "import seaborn as sns\n",
    "import pdb"
   ]
  },
  {
   "cell_type": "code",
   "execution_count": 2,
   "id": "8a31fdcc",
   "metadata": {},
   "outputs": [],
   "source": [
    "import warnings\n",
    "warnings.filterwarnings(\"ignore\")\n",
    "\n",
    "import helpers\n",
    "\n",
    "\n"
   ]
  },
  {
   "cell_type": "code",
   "execution_count": 3,
   "id": "175a04b6",
   "metadata": {},
   "outputs": [],
   "source": [
    "class Distances(object):\n",
    "    \n",
    "    def __init__(self,P,Q):\n",
    "        if sum(P)<1e-20 or sum(Q)<1e-20:\n",
    "            raise \"One or both vector are zero (empty)...\"\n",
    "        if len(P)!=len(Q):\n",
    "            raise \"Arrays need to be of equal sizes...\"\n",
    "        #use numpy arrays for efficient coding\n",
    "        P=np.array(P,dtype=float);Q=np.array(Q,dtype=float)\n",
    "        #Correct for zero values\n",
    "        P[np.where(P<1e-20)]=1e-20\n",
    "        Q[np.where(Q<1e-20)]=1e-20\n",
    "        self.P=P\n",
    "        self.Q=Q\n",
    "        \n",
    "    def sqEuclidean(self):\n",
    "        P=self.P; Q=self.Q; d=len(P)\n",
    "        return sum((P-Q)**2)\n",
    "    \n",
    "    def probsymm(self):\n",
    "        P=self.P; Q=self.Q; d=len(P)\n",
    "        return 2*sum((P-Q)**2/(P+Q))\n",
    "    \n",
    "    def topsoe(self):\n",
    "        P=self.P; Q=self.Q\n",
    "        return sum(P*np.log(2*P/(P+Q))+Q*np.log(2*Q/(P+Q)))\n",
    "    def hellinger(self):\n",
    "        P=self.P; Q=self.Q\n",
    "        return 2 * np.sqrt(1 - sum(np.sqrt(P * Q)))\n",
    "\n",
    "\n",
    "def DyS_distance(sc_1, sc_2, measure):\n",
    "    \n",
    "    dist = Distances(sc_1, sc_2)\n",
    "    \n",
    "    if measure == 'sqEuclidean':\n",
    "        return dist.sqEuclidean()\n",
    "    if measure == 'topsoe':\n",
    "        return dist.topsoe()\n",
    "    if measure == 'probsymm':\n",
    "        return dist.probsymm()\n",
    "    if measure == 'hellinger':\n",
    "        return dist.hellinger()\n",
    "    return 100\n",
    "\n",
    "\n",
    "def TernarySearch(left, right, f, eps=1e-4):\n",
    "\n",
    "    while True:\n",
    "        if abs(left - right) < eps:\n",
    "            return(left + right) / 2\n",
    "    \n",
    "        leftThird  = left + (right - left) / 3\n",
    "        rightThird = right - (right - left) / 3\n",
    "    \n",
    "        if f(leftThird) > f(rightThird):\n",
    "            left = leftThird\n",
    "        else:\n",
    "            right = rightThird \n",
    "\n",
    "\n",
    "def getHist(scores, nbins):\n",
    "    breaks = np.linspace(0, 1, int(nbins)+1)\n",
    "    breaks = np.delete(breaks, -1)\n",
    "    breaks = np.append(breaks,1.1)\n",
    "    \n",
    "    re = np.repeat(1/(len(breaks)-1), (len(breaks)-1))  \n",
    "    for i in range(1,len(breaks)):\n",
    "        re[i-1] = (re[i-1] + len(np.where((scores >= breaks[i-1]) & (scores < breaks[i]))[0]) ) / (len(scores)+1)\n",
    "    return re\n",
    "\n",
    "def DyS(pos_scores, neg_scores, test_scores, measure='topose'):\n",
    "    \n",
    "    bin_size = np.linspace(2,20,10)  #[10,20] range(10,111,10) #creating bins from 2 to 10 with step size 2\n",
    "    bin_size = np.append(bin_size, 30)\n",
    "    \n",
    "    result  = []\n",
    "    for bins in bin_size:\n",
    "        #....Creating Histograms bins score\\counts for validation and test set...............\n",
    "        \n",
    "        p_bin_count = getHist(pos_scores, bins)\n",
    "        n_bin_count = getHist(neg_scores, bins)\n",
    "        te_bin_count = getHist(test_scores, bins)\n",
    "        \n",
    "        def f(x):            \n",
    "            return(DyS_distance(((p_bin_count*x) + (n_bin_count*(1-x))), te_bin_count, measure = measure))\n",
    "    \n",
    "        result.append(TernarySearch(0, 1, f))                                           \n",
    "    \n",
    "    print(result)\n",
    "    pos_prop = np.median(result)\n",
    "    return pos_prop"
   ]
  },
  {
   "cell_type": "code",
   "execution_count": 4,
   "id": "7136b825",
   "metadata": {
    "scrolled": true
   },
   "outputs": [
    {
     "data": {
      "image/png": "[encoded data removed]",
      "text/plain": [
       "<Figure size 432x288 with 1 Axes>"
      ]
     },
     "metadata": {
      "needs_background": "light"
     },
     "output_type": "display_data"
    }
   ],
   "source": [
    "tr_scores = np.load(\"scores/SkillCraft/Row1/Class1/train_scores.npy\")\n",
    "te_scores = np.load(\"scores/SkillCraft/Row1/Class1/test_scores.npy\")\n",
    "tr_y = np.load(\"scores/SkillCraft/Row1/Class1/y_train1.npy\")\n",
    "te_y = np.load(\"scores/SkillCraft/Row1/Class1/y_test1.npy\")\n",
    "\n",
    "tr = pd.DataFrame(np.transpose(np.array([tr_scores, tr_y])), columns = ['scores','labels'])\n",
    "te = pd.DataFrame(np.transpose(np.array([te_scores, te_y])), columns = ['scores','labels'])\n",
    "\n",
    "ax = sns.histplot(data=tr, x='scores', hue='labels')"
   ]
  },
  {
   "cell_type": "code",
   "execution_count": 5,
   "id": "0cc51946",
   "metadata": {},
   "outputs": [],
   "source": [
    "pos_scores = tr[tr.labels == 1].scores\n",
    "neg_scores = tr[tr.labels == 0].scores\n",
    "\n",
    "p_pos = len(pos_scores) / (len(pos_scores)+len(neg_scores))\n",
    "p_neg = len(neg_scores) / (len(pos_scores)+len(neg_scores))"
   ]
  },
  {
   "cell_type": "code",
   "execution_count": 6,
   "id": "7399e561",
   "metadata": {},
   "outputs": [
    {
     "data": {
      "image/png": "[encoded data removed]",
      "text/plain": [
       "<Figure size 432x288 with 1 Axes>"
      ]
     },
     "metadata": {
      "needs_background": "light"
     },
     "output_type": "display_data"
    }
   ],
   "source": [
    "ax = sns.histplot(data=te, x='scores', hue='labels')"
   ]
  },
  {
   "cell_type": "code",
   "execution_count": 7,
   "id": "3c3d078b",
   "metadata": {},
   "outputs": [
    {
     "name": "stdout",
     "output_type": "stream",
     "text": [
      "Target pos dist:  0.09871244635193133\n"
     ]
    }
   ],
   "source": [
    "pos_te_scores = te[te.labels == 1].scores\n",
    "neg_te_scores = te[te.labels == 0].scores\n",
    "\n",
    "p_pos_te = len(pos_te_scores) / (len(pos_te_scores)+len(neg_te_scores))\n",
    "p_neg_te = len(neg_te_scores) / (len(pos_te_scores)+len(neg_te_scores))\n",
    "\n",
    "print(\"Target pos dist: \", p_pos_te)"
   ]
  },
  {
   "cell_type": "code",
   "execution_count": 8,
   "id": "1c620d55",
   "metadata": {
    "scrolled": true
   },
   "outputs": [
    {
     "name": "stdout",
     "output_type": "stream",
     "text": [
      "[0.24148870296569813, 0.24247855796274725, 0.23898617943786038, 0.2324964865295434, 0.22114281989837747, 0.2084130263335962, 0.21167594466530543, 0.23191212793144367, 0.2202555137223931, 0.21043631998453638, 0.17765609405153515]\n"
     ]
    },
    {
     "data": {
      "text/plain": [
       "0.22114281989837747"
      ]
     },
     "execution_count": 8,
     "metadata": {},
     "output_type": "execute_result"
    }
   ],
   "source": [
    "DyS(pos_scores, neg_scores, te.scores, measure='sqEuclidean')"
   ]
  },
  {
   "cell_type": "markdown",
   "id": "2e10dfe0",
   "metadata": {},
   "source": [
    "# Class 2"
   ]
  },
  {
   "cell_type": "code",
   "execution_count": 9,
   "id": "132752ee",
   "metadata": {},
   "outputs": [
    {
     "data": {
      "image/png": "[encoded data removed]",
      "text/plain": [
       "<Figure size 432x288 with 1 Axes>"
      ]
     },
     "metadata": {
      "needs_background": "light"
     },
     "output_type": "display_data"
    }
   ],
   "source": [
    "tr_scores = np.load(\"scores/SkillCraft/Row1/Class2/train_scores.npy\")\n",
    "te_scores = np.load(\"scores/SkillCraft/Row1/Class2/test_scores.npy\")\n",
    "tr_y = np.load(\"scores/SkillCraft/Row1/Class2/y_train2.npy\")\n",
    "te_y = np.load(\"scores/SkillCraft/Row1/Class2/y_test2.npy\")\n",
    "\n",
    "tr = pd.DataFrame(np.transpose(np.array([tr_scores, tr_y])), columns = ['scores','labels'])\n",
    "te = pd.DataFrame(np.transpose(np.array([te_scores, te_y])), columns = ['scores','labels'])\n",
    "\n",
    "ax = sns.histplot(data=tr, x='scores', hue='labels')"
   ]
  },
  {
   "cell_type": "code",
   "execution_count": 10,
   "id": "36d92664",
   "metadata": {},
   "outputs": [],
   "source": [
    "pos_scores = tr[tr.labels == 1].scores\n",
    "neg_scores = tr[tr.labels == 0].scores\n",
    "\n",
    "p_pos = len(pos_scores) / (len(pos_scores)+len(neg_scores))\n",
    "p_neg = len(neg_scores) / (len(pos_scores)+len(neg_scores))"
   ]
  },
  {
   "cell_type": "code",
   "execution_count": 11,
   "id": "83610693",
   "metadata": {},
   "outputs": [
    {
     "data": {
      "image/png": "[encoded data removed]",
      "text/plain": [
       "<Figure size 432x288 with 1 Axes>"
      ]
     },
     "metadata": {
      "needs_background": "light"
     },
     "output_type": "display_data"
    }
   ],
   "source": [
    "ax = sns.histplot(data=te, x='scores', hue='labels')"
   ]
  },
  {
   "cell_type": "code",
   "execution_count": 12,
   "id": "789d7f59",
   "metadata": {},
   "outputs": [
    {
     "name": "stdout",
     "output_type": "stream",
     "text": [
      "Target pos dist:  0.7017167381974249\n"
     ]
    }
   ],
   "source": [
    "pos_te_scores = te[te.labels == 1].scores\n",
    "neg_te_scores = te[te.labels == 0].scores\n",
    "\n",
    "p_pos_te = len(pos_te_scores) / (len(pos_te_scores)+len(neg_te_scores))\n",
    "p_neg_te = len(neg_te_scores) / (len(pos_te_scores)+len(neg_te_scores))\n",
    "\n",
    "print(\"Target pos dist: \", p_pos_te)"
   ]
  },
  {
   "cell_type": "code",
   "execution_count": 13,
   "id": "1bf56f18",
   "metadata": {
    "scrolled": true
   },
   "outputs": [
    {
     "name": "stdout",
     "output_type": "stream",
     "text": [
      "[0.46577124499458883, 0.4675932377734306, 0.4278002217878094, 0.4444237053316981, 0.41543779869458985, 0.4786428445209528, 0.42611145110913756, 0.4129429326094792, 0.36949645974800666, 0.3779186723169815, 0.3448158675165744]\n"
     ]
    },
    {
     "data": {
      "text/plain": [
       "0.42611145110913756"
      ]
     },
     "execution_count": 13,
     "metadata": {},
     "output_type": "execute_result"
    }
   ],
   "source": [
    "DyS(pos_scores, neg_scores, te.scores, measure='sqEuclidean')"
   ]
  },
  {
   "cell_type": "markdown",
   "id": "ef63e6e5",
   "metadata": {},
   "source": [
    "# Class 3"
   ]
  },
  {
   "cell_type": "code",
   "execution_count": 14,
   "id": "b70248f2",
   "metadata": {},
   "outputs": [
    {
     "data": {
      "image/png": "[encoded data removed]",
      "text/plain": [
       "<Figure size 432x288 with 1 Axes>"
      ]
     },
     "metadata": {
      "needs_background": "light"
     },
     "output_type": "display_data"
    }
   ],
   "source": [
    "tr_scores = np.load(\"scores/SkillCraft/Row1/Class3/train_scores.npy\")\n",
    "te_scores = np.load(\"scores/SkillCraft/Row1/Class3/test_scores.npy\")\n",
    "tr_y = np.load(\"scores/SkillCraft/Row1/Class3/y_train3.npy\")\n",
    "te_y = np.load(\"scores/SkillCraft/Row1/Class3/y_test3.npy\")\n",
    "\n",
    "tr = pd.DataFrame(np.transpose(np.array([tr_scores, tr_y])), columns = ['scores','labels'])\n",
    "te = pd.DataFrame(np.transpose(np.array([te_scores, te_y])), columns = ['scores','labels'])\n",
    "\n",
    "ax = sns.histplot(data=tr, x='scores', hue='labels')"
   ]
  },
  {
   "cell_type": "code",
   "execution_count": 15,
   "id": "d52bbf8a",
   "metadata": {},
   "outputs": [],
   "source": [
    "pos_scores = tr[tr.labels == 1].scores\n",
    "neg_scores = tr[tr.labels == 0].scores\n",
    "\n",
    "p_pos = len(pos_scores) / (len(pos_scores)+len(neg_scores))\n",
    "p_neg = len(neg_scores) / (len(pos_scores)+len(neg_scores))"
   ]
  },
  {
   "cell_type": "code",
   "execution_count": 16,
   "id": "34d5f520",
   "metadata": {},
   "outputs": [
    {
     "data": {
      "image/png": "[encoded data removed]",
      "text/plain": [
       "<Figure size 432x288 with 1 Axes>"
      ]
     },
     "metadata": {
      "needs_background": "light"
     },
     "output_type": "display_data"
    }
   ],
   "source": [
    "ax = sns.histplot(data=te, x='scores', hue='labels')"
   ]
  },
  {
   "cell_type": "code",
   "execution_count": 17,
   "id": "bda87957",
   "metadata": {},
   "outputs": [
    {
     "name": "stdout",
     "output_type": "stream",
     "text": [
      "Target pos dist:  0.19957081545064378\n"
     ]
    }
   ],
   "source": [
    "pos_te_scores = te[te.labels == 1].scores\n",
    "neg_te_scores = te[te.labels == 0].scores\n",
    "\n",
    "p_pos_te = len(pos_te_scores) / (len(pos_te_scores)+len(neg_te_scores))\n",
    "p_neg_te = len(neg_te_scores) / (len(pos_te_scores)+len(neg_te_scores))\n",
    "\n",
    "print(\"Target pos dist: \", p_pos_te)"
   ]
  },
  {
   "cell_type": "code",
   "execution_count": 18,
   "id": "636fb362",
   "metadata": {},
   "outputs": [
    {
     "name": "stdout",
     "output_type": "stream",
     "text": [
      "[0.2173151372931174, 0.22336427635019657, 0.2210077704539205, 0.23159556228780032, 0.21240770903589878, 0.2362628817205491, 0.24007001214110385, 0.24004773594408002, 0.21350287290527975, 0.20068170940688057, 0.18777060443735727]\n"
     ]
    },
    {
     "data": {
      "text/plain": [
       "0.2210077704539205"
      ]
     },
     "execution_count": 18,
     "metadata": {},
     "output_type": "execute_result"
    }
   ],
   "source": [
    "DyS(pos_scores, neg_scores, te.scores, measure='sqEuclidean')"
   ]
  },
  {
   "cell_type": "code",
   "execution_count": null,
   "id": "a171a56e",
   "metadata": {},
   "outputs": [],
   "source": []
  },
  {
   "cell_type": "markdown",
   "id": "f2545564",
   "metadata": {},
   "source": [
    "## DyS Schumacher"
   ]
  },
  {
   "cell_type": "code",
   "execution_count": 19,
   "id": "06759c69",
   "metadata": {},
   "outputs": [],
   "source": [
    "\"\"\"This function fit a quantifier using the codes provided by Tobias Schumacher.\n",
    " \n",
    "Parameters\n",
    "----------\n",
    "qntMethod : string\n",
    "    Quantification method name, according to the alg_index.csv file\n",
    "X_train : DataFrame\n",
    "    A DataFrame of the training data.\n",
    "y_train : DataFrame\n",
    "    A DataFrame with the training labels.\n",
    "Returns\n",
    "-------\n",
    "object\n",
    "    the quantifier fitted. \n",
    " \"\"\"\n",
    "def fit_quantifier_schumacher_github(qntMethod, X_train, y_train):\n",
    "    \n",
    "    algorithm_index = pd.read_csv(\"./alg_index.csv\",\n",
    "                                sep=\";\",\n",
    "                                index_col=\"algorithm\")\n",
    "\n",
    "\n",
    "    algorithm_index = algorithm_index.loc[algorithm_index.export == 1]\n",
    "    algorithms = list(algorithm_index.index)\n",
    "\n",
    "    algorithm_dict = dict({alg: helpers.load_class(algorithm_index.loc[alg, \"module_name\"],\n",
    "                                                algorithm_index.loc[alg, \"class_name\"])\n",
    "                        for alg in algorithms})\n",
    "\n",
    "    init_args = []\n",
    "\n",
    "    fit_args = [np.asarray(X_train), np.asarray(y_train)]   \n",
    "    qf = algorithm_dict[qntMethod](*init_args)\n",
    "    qf.fit(*fit_args)\n",
    "    return qf   \n",
    "\n",
    "\n",
    "\"\"\"This function predict the class distribution from a given test set.\n",
    " \n",
    "Parameters\n",
    "----------\n",
    "qnt : object\n",
    "    A quantifier previously fitted from some training data.\n",
    "X_train : DataFrame\n",
    "    A DataFrame of the test data.\n",
    "Returns\n",
    "-------\n",
    "array\n",
    "    the class distribution of the test calculated according to the qntMethod quantifier. \n",
    " \"\"\"\n",
    "def predict_quantifier_schumacher_github(qnt, X_test):\n",
    "    return qnt.predict(*[np.asarray(X_test)])\n"
   ]
  },
  {
   "cell_type": "code",
   "execution_count": 20,
   "id": "c58b70af",
   "metadata": {},
   "outputs": [],
   "source": [
    "X_train = np.load(\"scores/SkillCraft/Row1/Class1/X_train.npy\")\n",
    "y_train = np.load(\"scores/SkillCraft/Row1/Class1/y_train.npy\")\n",
    "\n",
    "qnt1 = fit_quantifier_schumacher_github('DyS', X_train, y_train)\n"
   ]
  },
  {
   "cell_type": "code",
   "execution_count": 21,
   "id": "044f3ea2",
   "metadata": {},
   "outputs": [
    {
     "name": "stdout",
     "output_type": "stream",
     "text": [
      "Predict _ovr_0\n",
      "Para\n",
      "> \u001b[0;32m/Users/andregustavom/projects/multiclassQuantification/QFY/distribution_matching/_base.py\u001b[0m(132)\u001b[0;36mpredict\u001b[0;34m()\u001b[0m\n",
      "\u001b[0;32m    130 \u001b[0;31m        \u001b[0mprint\u001b[0m\u001b[0;34m(\u001b[0m\u001b[0;34m'Para'\u001b[0m\u001b[0;34m)\u001b[0m\u001b[0;34m\u001b[0m\u001b[0;34m\u001b[0m\u001b[0m\n",
      "\u001b[0m\u001b[0;32m    131 \u001b[0;31m        \u001b[0mpdb\u001b[0m\u001b[0;34m.\u001b[0m\u001b[0mset_trace\u001b[0m\u001b[0;34m(\u001b[0m\u001b[0;34m)\u001b[0m\u001b[0;34m\u001b[0m\u001b[0;34m\u001b[0m\u001b[0m\n",
      "\u001b[0m\u001b[0;32m--> 132 \u001b[0;31m        \u001b[0;32mif\u001b[0m \u001b[0mself\u001b[0m\u001b[0;34m.\u001b[0m\u001b[0m_solve_cvx\u001b[0m \u001b[0;32mis\u001b[0m \u001b[0;32mNone\u001b[0m\u001b[0;34m:\u001b[0m\u001b[0;34m\u001b[0m\u001b[0;34m\u001b[0m\u001b[0m\n",
      "\u001b[0m\u001b[0;32m    133 \u001b[0;31m            \u001b[0;32mreturn\u001b[0m \u001b[0mself\u001b[0m\u001b[0;34m.\u001b[0m\u001b[0mgs_search\u001b[0m\u001b[0;34m(\u001b[0m\u001b[0myp\u001b[0m\u001b[0;34m)\u001b[0m\u001b[0;34m\u001b[0m\u001b[0;34m\u001b[0m\u001b[0m\n",
      "\u001b[0m\u001b[0;32m    134 \u001b[0;31m        \u001b[0;32melse\u001b[0m\u001b[0;34m:\u001b[0m\u001b[0;34m\u001b[0m\u001b[0;34m\u001b[0m\u001b[0m\n",
      "\u001b[0m\n",
      "array([0.17811159, 0.45064378, 0.17381974, 0.07081545, 0.04291845,\n",
      "       0.04291845, 0.0193133 , 0.00214592, 0.01287554, 0.00643777])\n"
     ]
    },
    {
     "ename": "BdbQuit",
     "evalue": "",
     "output_type": "error",
     "traceback": [
      "\u001b[0;31m---------------------------------------------------------------------------\u001b[0m",
      "\u001b[0;31mBdbQuit\u001b[0m                                   Traceback (most recent call last)",
      "\u001b[0;32m<ipython-input-21-8073d471f13b>\u001b[0m in \u001b[0;36m<module>\u001b[0;34m\u001b[0m\n\u001b[1;32m      1\u001b[0m \u001b[0mX_test\u001b[0m \u001b[0;34m=\u001b[0m \u001b[0mnp\u001b[0m\u001b[0;34m.\u001b[0m\u001b[0mload\u001b[0m\u001b[0;34m(\u001b[0m\u001b[0;34m\"scores/SkillCraft/Row1/Class1/X_test.npy\"\u001b[0m\u001b[0;34m)\u001b[0m\u001b[0;34m\u001b[0m\u001b[0;34m\u001b[0m\u001b[0m\n\u001b[0;32m----> 2\u001b[0;31m \u001b[0mpred_dist\u001b[0m \u001b[0;34m=\u001b[0m \u001b[0mpredict_quantifier_schumacher_github\u001b[0m\u001b[0;34m(\u001b[0m\u001b[0mqnt1\u001b[0m\u001b[0;34m,\u001b[0m \u001b[0mX_test\u001b[0m\u001b[0;34m)\u001b[0m\u001b[0;34m\u001b[0m\u001b[0;34m\u001b[0m\u001b[0m\n\u001b[0m",
      "\u001b[0;32m<ipython-input-19-e8def3588b89>\u001b[0m in \u001b[0;36mpredict_quantifier_schumacher_github\u001b[0;34m(qnt, X_test)\u001b[0m\n\u001b[1;32m     50\u001b[0m  \"\"\"\n\u001b[1;32m     51\u001b[0m \u001b[0;32mdef\u001b[0m \u001b[0mpredict_quantifier_schumacher_github\u001b[0m\u001b[0;34m(\u001b[0m\u001b[0mqnt\u001b[0m\u001b[0;34m,\u001b[0m \u001b[0mX_test\u001b[0m\u001b[0;34m)\u001b[0m\u001b[0;34m:\u001b[0m\u001b[0;34m\u001b[0m\u001b[0;34m\u001b[0m\u001b[0m\n\u001b[0;32m---> 52\u001b[0;31m     \u001b[0;32mreturn\u001b[0m \u001b[0mqnt\u001b[0m\u001b[0;34m.\u001b[0m\u001b[0mpredict\u001b[0m\u001b[0;34m(\u001b[0m\u001b[0;34m*\u001b[0m\u001b[0;34m[\u001b[0m\u001b[0mnp\u001b[0m\u001b[0;34m.\u001b[0m\u001b[0masarray\u001b[0m\u001b[0;34m(\u001b[0m\u001b[0mX_test\u001b[0m\u001b[0;34m)\u001b[0m\u001b[0;34m]\u001b[0m\u001b[0;34m)\u001b[0m\u001b[0;34m\u001b[0m\u001b[0;34m\u001b[0m\u001b[0m\n\u001b[0m",
      "\u001b[0;32m~/projects/multiclassQuantification/QFY/distribution_matching/_ovr_multiclass.py\u001b[0m in \u001b[0;36mpredict\u001b[0;34m(self, X)\u001b[0m\n\u001b[1;32m     44\u001b[0m             \u001b[0;32mfor\u001b[0m \u001b[0mi\u001b[0m \u001b[0;32min\u001b[0m \u001b[0mrange\u001b[0m\u001b[0;34m(\u001b[0m\u001b[0mself\u001b[0m\u001b[0;34m.\u001b[0m\u001b[0mL\u001b[0m\u001b[0;34m)\u001b[0m\u001b[0;34m:\u001b[0m\u001b[0;34m\u001b[0m\u001b[0;34m\u001b[0m\u001b[0m\n\u001b[1;32m     45\u001b[0m                 \u001b[0mprint\u001b[0m\u001b[0;34m(\u001b[0m\u001b[0;34m'Predict _ovr_'\u001b[0m\u001b[0;34m+\u001b[0m \u001b[0mstr\u001b[0m\u001b[0;34m(\u001b[0m\u001b[0mi\u001b[0m\u001b[0;34m)\u001b[0m\u001b[0;34m)\u001b[0m\u001b[0;34m\u001b[0m\u001b[0;34m\u001b[0m\u001b[0m\n\u001b[0;32m---> 46\u001b[0;31m                 \u001b[0mp\u001b[0m\u001b[0;34m[\u001b[0m\u001b[0mi\u001b[0m\u001b[0;34m]\u001b[0m \u001b[0;34m=\u001b[0m \u001b[0mself\u001b[0m\u001b[0;34m.\u001b[0m\u001b[0mqf_models\u001b[0m\u001b[0;34m[\u001b[0m\u001b[0mi\u001b[0m\u001b[0;34m]\u001b[0m\u001b[0;34m.\u001b[0m\u001b[0mpredict\u001b[0m\u001b[0;34m(\u001b[0m\u001b[0mX\u001b[0m\u001b[0;34m)\u001b[0m\u001b[0;34m[\u001b[0m\u001b[0;36m1\u001b[0m\u001b[0;34m]\u001b[0m\u001b[0;34m\u001b[0m\u001b[0;34m\u001b[0m\u001b[0m\n\u001b[0m\u001b[1;32m     47\u001b[0m \u001b[0;34m\u001b[0m\u001b[0m\n\u001b[1;32m     48\u001b[0m             \u001b[0mp_sum\u001b[0m \u001b[0;34m=\u001b[0m \u001b[0mnp\u001b[0m\u001b[0;34m.\u001b[0m\u001b[0msum\u001b[0m\u001b[0;34m(\u001b[0m\u001b[0mp\u001b[0m\u001b[0;34m)\u001b[0m\u001b[0;34m\u001b[0m\u001b[0;34m\u001b[0m\u001b[0m\n",
      "\u001b[0;32m~/projects/multiclassQuantification/QFY/distribution_matching/_base.py\u001b[0m in \u001b[0;36mpredict\u001b[0;34m(self, X)\u001b[0m\n\u001b[1;32m    130\u001b[0m         \u001b[0mprint\u001b[0m\u001b[0;34m(\u001b[0m\u001b[0;34m'Para'\u001b[0m\u001b[0;34m)\u001b[0m\u001b[0;34m\u001b[0m\u001b[0;34m\u001b[0m\u001b[0m\n\u001b[1;32m    131\u001b[0m         \u001b[0mpdb\u001b[0m\u001b[0;34m.\u001b[0m\u001b[0mset_trace\u001b[0m\u001b[0;34m(\u001b[0m\u001b[0;34m)\u001b[0m\u001b[0;34m\u001b[0m\u001b[0;34m\u001b[0m\u001b[0m\n\u001b[0;32m--> 132\u001b[0;31m         \u001b[0;32mif\u001b[0m \u001b[0mself\u001b[0m\u001b[0;34m.\u001b[0m\u001b[0m_solve_cvx\u001b[0m \u001b[0;32mis\u001b[0m \u001b[0;32mNone\u001b[0m\u001b[0;34m:\u001b[0m\u001b[0;34m\u001b[0m\u001b[0;34m\u001b[0m\u001b[0m\n\u001b[0m\u001b[1;32m    133\u001b[0m             \u001b[0;32mreturn\u001b[0m \u001b[0mself\u001b[0m\u001b[0;34m.\u001b[0m\u001b[0mgs_search\u001b[0m\u001b[0;34m(\u001b[0m\u001b[0myp\u001b[0m\u001b[0;34m)\u001b[0m\u001b[0;34m\u001b[0m\u001b[0;34m\u001b[0m\u001b[0m\n\u001b[1;32m    134\u001b[0m         \u001b[0;32melse\u001b[0m\u001b[0;34m:\u001b[0m\u001b[0;34m\u001b[0m\u001b[0;34m\u001b[0m\u001b[0m\n",
      "\u001b[0;32m~/projects/multiclassQuantification/QFY/distribution_matching/_base.py\u001b[0m in \u001b[0;36mpredict\u001b[0;34m(self, X)\u001b[0m\n\u001b[1;32m    130\u001b[0m         \u001b[0mprint\u001b[0m\u001b[0;34m(\u001b[0m\u001b[0;34m'Para'\u001b[0m\u001b[0;34m)\u001b[0m\u001b[0;34m\u001b[0m\u001b[0;34m\u001b[0m\u001b[0m\n\u001b[1;32m    131\u001b[0m         \u001b[0mpdb\u001b[0m\u001b[0;34m.\u001b[0m\u001b[0mset_trace\u001b[0m\u001b[0;34m(\u001b[0m\u001b[0;34m)\u001b[0m\u001b[0;34m\u001b[0m\u001b[0;34m\u001b[0m\u001b[0m\n\u001b[0;32m--> 132\u001b[0;31m         \u001b[0;32mif\u001b[0m \u001b[0mself\u001b[0m\u001b[0;34m.\u001b[0m\u001b[0m_solve_cvx\u001b[0m \u001b[0;32mis\u001b[0m \u001b[0;32mNone\u001b[0m\u001b[0;34m:\u001b[0m\u001b[0;34m\u001b[0m\u001b[0;34m\u001b[0m\u001b[0m\n\u001b[0m\u001b[1;32m    133\u001b[0m             \u001b[0;32mreturn\u001b[0m \u001b[0mself\u001b[0m\u001b[0;34m.\u001b[0m\u001b[0mgs_search\u001b[0m\u001b[0;34m(\u001b[0m\u001b[0myp\u001b[0m\u001b[0;34m)\u001b[0m\u001b[0;34m\u001b[0m\u001b[0;34m\u001b[0m\u001b[0m\n\u001b[1;32m    134\u001b[0m         \u001b[0;32melse\u001b[0m\u001b[0;34m:\u001b[0m\u001b[0;34m\u001b[0m\u001b[0;34m\u001b[0m\u001b[0m\n",
      "\u001b[0;32m/Library/Frameworks/Python.framework/Versions/3.9/lib/python3.9/bdb.py\u001b[0m in \u001b[0;36mtrace_dispatch\u001b[0;34m(self, frame, event, arg)\u001b[0m\n\u001b[1;32m     86\u001b[0m             \u001b[0;32mreturn\u001b[0m \u001b[0;31m# None\u001b[0m\u001b[0;34m\u001b[0m\u001b[0;34m\u001b[0m\u001b[0m\n\u001b[1;32m     87\u001b[0m         \u001b[0;32mif\u001b[0m \u001b[0mevent\u001b[0m \u001b[0;34m==\u001b[0m \u001b[0;34m'line'\u001b[0m\u001b[0;34m:\u001b[0m\u001b[0;34m\u001b[0m\u001b[0;34m\u001b[0m\u001b[0m\n\u001b[0;32m---> 88\u001b[0;31m             \u001b[0;32mreturn\u001b[0m \u001b[0mself\u001b[0m\u001b[0;34m.\u001b[0m\u001b[0mdispatch_line\u001b[0m\u001b[0;34m(\u001b[0m\u001b[0mframe\u001b[0m\u001b[0;34m)\u001b[0m\u001b[0;34m\u001b[0m\u001b[0;34m\u001b[0m\u001b[0m\n\u001b[0m\u001b[1;32m     89\u001b[0m         \u001b[0;32mif\u001b[0m \u001b[0mevent\u001b[0m \u001b[0;34m==\u001b[0m \u001b[0;34m'call'\u001b[0m\u001b[0;34m:\u001b[0m\u001b[0;34m\u001b[0m\u001b[0;34m\u001b[0m\u001b[0m\n\u001b[1;32m     90\u001b[0m             \u001b[0;32mreturn\u001b[0m \u001b[0mself\u001b[0m\u001b[0;34m.\u001b[0m\u001b[0mdispatch_call\u001b[0m\u001b[0;34m(\u001b[0m\u001b[0mframe\u001b[0m\u001b[0;34m,\u001b[0m \u001b[0marg\u001b[0m\u001b[0;34m)\u001b[0m\u001b[0;34m\u001b[0m\u001b[0;34m\u001b[0m\u001b[0m\n",
      "\u001b[0;32m/Library/Frameworks/Python.framework/Versions/3.9/lib/python3.9/bdb.py\u001b[0m in \u001b[0;36mdispatch_line\u001b[0;34m(self, frame)\u001b[0m\n\u001b[1;32m    111\u001b[0m         \u001b[0;32mif\u001b[0m \u001b[0mself\u001b[0m\u001b[0;34m.\u001b[0m\u001b[0mstop_here\u001b[0m\u001b[0;34m(\u001b[0m\u001b[0mframe\u001b[0m\u001b[0;34m)\u001b[0m \u001b[0;32mor\u001b[0m \u001b[0mself\u001b[0m\u001b[0;34m.\u001b[0m\u001b[0mbreak_here\u001b[0m\u001b[0;34m(\u001b[0m\u001b[0mframe\u001b[0m\u001b[0;34m)\u001b[0m\u001b[0;34m:\u001b[0m\u001b[0;34m\u001b[0m\u001b[0;34m\u001b[0m\u001b[0m\n\u001b[1;32m    112\u001b[0m             \u001b[0mself\u001b[0m\u001b[0;34m.\u001b[0m\u001b[0muser_line\u001b[0m\u001b[0;34m(\u001b[0m\u001b[0mframe\u001b[0m\u001b[0;34m)\u001b[0m\u001b[0;34m\u001b[0m\u001b[0;34m\u001b[0m\u001b[0m\n\u001b[0;32m--> 113\u001b[0;31m             \u001b[0;32mif\u001b[0m \u001b[0mself\u001b[0m\u001b[0;34m.\u001b[0m\u001b[0mquitting\u001b[0m\u001b[0;34m:\u001b[0m \u001b[0;32mraise\u001b[0m \u001b[0mBdbQuit\u001b[0m\u001b[0;34m\u001b[0m\u001b[0;34m\u001b[0m\u001b[0m\n\u001b[0m\u001b[1;32m    114\u001b[0m         \u001b[0;32mreturn\u001b[0m \u001b[0mself\u001b[0m\u001b[0;34m.\u001b[0m\u001b[0mtrace_dispatch\u001b[0m\u001b[0;34m\u001b[0m\u001b[0;34m\u001b[0m\u001b[0m\n\u001b[1;32m    115\u001b[0m \u001b[0;34m\u001b[0m\u001b[0m\n",
      "\u001b[0;31mBdbQuit\u001b[0m: "
     ]
    }
   ],
   "source": [
    "X_test = np.load(\"scores/SkillCraft/Row1/Class1/X_test.npy\")\n",
    "pred_dist = predict_quantifier_schumacher_github(qnt1, X_test) "
   ]
  },
  {
   "cell_type": "code",
   "execution_count": null,
   "id": "6426c791",
   "metadata": {},
   "outputs": [],
   "source": [
    "from QFY.distribution_matching._ovr_multiclass import BinaryDyS\n",
    "from sklearn import svm"
   ]
  },
  {
   "cell_type": "code",
   "execution_count": null,
   "id": "19d6a5a4",
   "metadata": {},
   "outputs": [],
   "source": [
    "qf=BinaryDyS(clf=svm.SVC(), distance='TS', nbins=10, nfolds=10, solve_cvx=True)"
   ]
  },
  {
   "cell_type": "code",
   "execution_count": null,
   "id": "155aeb04",
   "metadata": {},
   "outputs": [
    {
     "data": {
      "text/plain": [
       "(1872, 18)"
      ]
     },
     "execution_count": 24,
     "metadata": {},
     "output_type": "execute_result"
    }
   ],
   "source": [
    "X_train.shape"
   ]
  },
  {
   "cell_type": "code",
   "execution_count": null,
   "id": "1973f29c",
   "metadata": {},
   "outputs": [],
   "source": [
    "#X_train_b = np.load(\"scores/SkillCraft/Row1/Class1/X_train.npy\")\n",
    "#y_train = np.load(\"scores/SkillCraft/Row1/Class1/y_train.npy\")\n",
    "\n",
    "#qnt1 = fit_quantifier_schumacher_github('DyS', X_train, y_train)\n",
    "#X_test = np.load(\"scores/SkillCraft/Row1/Class1/X_test.npy\")\n",
    "#pred_dist = predict_quantifier_schumacher_github(qnt1, X_test) \n"
   ]
  }
 ],
 "metadata": {
  "interpreter": {
   "hash": "aee8b7b246df8f9039afb4144a1f6fd8d2ca17a180786b69acc140d282b71a49"
  },
  "kernelspec": {
   "display_name": "Python 3.9.2 64-bit",
   "language": "python",
   "name": "python3"
  },
  "language_info": {
   "codemirror_mode": {
    "name": "ipython",
    "version": 3
   },
   "file_extension": ".py",
   "mimetype": "text/x-python",
   "name": "python",
   "nbconvert_exporter": "python",
   "pygments_lexer": "ipython3",
   "version": "3.9.2"
  }
 },
 "nbformat": 4,
 "nbformat_minor": 5
}
